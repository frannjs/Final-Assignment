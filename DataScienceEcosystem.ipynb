{
 "cells": [
  {
   "cell_type": "markdown",
   "id": "8c944b1b-7c88-494b-bcd7-cbe5bf357a6a",
   "metadata": {},
   "source": [
    "# Data Science Tools and Ecosystem"
   ]
  },
  {
   "cell_type": "markdown",
   "id": "497673c5-0fb6-4b2d-a531-31063a34d369",
   "metadata": {},
   "source": [
    "#### In this notebook, Data Science Tools and Ecosystem are summarized."
   ]
  },
  {
   "cell_type": "markdown",
   "id": "d758ba03-e52a-4cd9-bf68-7d301e37a2d2",
   "metadata": {},
   "source": [
    "__Objectives:__\n",
    "+ To teach people the basics of _Data Science_.\n",
    "+ To Show the most used languages in data science.\n",
    "+ To show the most popular libraries used in data science.\n",
    "+ To show a basic list of open source Tools in data science. \n",
    "+ To show how to use mathematics in python."
   ]
  },
  {
   "cell_type": "markdown",
   "id": "aa5df0f2-ee9f-4dce-9a1e-d9d35bff3958",
   "metadata": {},
   "source": [
    "##### Some of the popular languages that Data Scientists use are:\n",
    "1. Python \n",
    "2. R\n",
    "3. SQL \n",
    "4. Java\n",
    "5. Julia\n",
    "6. Scala\n",
    "7. JavaScript\n",
    "8. C\n",
    "9. C++"
   ]
  },
  {
   "cell_type": "markdown",
   "id": "6074f9a2-adc9-4057-b7b1-1336c05404f0",
   "metadata": {
    "tags": []
   },
   "source": [
    "##### Some of the commonly used libraries used by Data Scientists include:\n",
    "1. Pandas\n",
    "2. Matplotlib\n",
    "3. TensorFlow\n",
    "4. NumPy\n",
    "5. SciPy\n",
    "6. PyTorch\n",
    "7. Scikit-learn"
   ]
  },
  {
   "cell_type": "markdown",
   "id": "6dea0363-f8e2-4831-92f8-7b6f7be96571",
   "metadata": {
    "tags": []
   },
   "source": [
    "|Data Science Tools|\n",
    "--------------------\n",
    "|Hadoop|\n",
    "|Apache Spark|\n",
    "|TensorFlow|\n"
   ]
  },
  {
   "cell_type": "markdown",
   "id": "f2d22b5f-3798-425e-a1cc-aedfecd8827e",
   "metadata": {},
   "source": [
    "### Below are a few examples of evaluating arithmetic expressions in Python"
   ]
  },
  {
   "cell_type": "markdown",
   "id": "f6327611-4e68-4b78-920d-96c952e66366",
   "metadata": {
    "tags": []
   },
   "source": [
    "This a simple arithmetic expression to multiply then add integers"
   ]
  },
  {
   "cell_type": "code",
   "execution_count": 5,
   "id": "91fd3de5-23cf-430c-b5a2-3555d5743d75",
   "metadata": {
    "tags": []
   },
   "outputs": [
    {
     "data": {
      "text/plain": [
       "17"
      ]
     },
     "execution_count": 5,
     "metadata": {},
     "output_type": "execute_result"
    }
   ],
   "source": [
    "(3*4)+5"
   ]
  },
  {
   "cell_type": "markdown",
   "id": "fa9c0299-37d1-45a8-8769-1057a6184001",
   "metadata": {},
   "source": [
    "This will convert 200 minutes to hours by diving by 60"
   ]
  },
  {
   "cell_type": "code",
   "execution_count": 6,
   "id": "64d1464b-5613-4fd8-82a7-7cde1f0fad47",
   "metadata": {
    "tags": []
   },
   "outputs": [
    {
     "data": {
      "text/plain": [
       "3.3333333333333335"
      ]
     },
     "execution_count": 6,
     "metadata": {},
     "output_type": "execute_result"
    }
   ],
   "source": [
    "200/60"
   ]
  },
  {
   "cell_type": "markdown",
   "id": "d960c76b-5b15-45c8-a5a8-2951491cb01f",
   "metadata": {},
   "source": [
    "## Author: \n",
    "Franco Stratta"
   ]
  },
  {
   "cell_type": "code",
   "execution_count": null,
   "id": "d6b19a63-ffa5-4613-9aee-749aa070524e",
   "metadata": {},
   "outputs": [],
   "source": []
  }
 ],
 "metadata": {
  "kernelspec": {
   "display_name": "Python",
   "language": "python",
   "name": "conda-env-python-py"
  },
  "language_info": {
   "codemirror_mode": {
    "name": "ipython",
    "version": 3
   },
   "file_extension": ".py",
   "mimetype": "text/x-python",
   "name": "python",
   "nbconvert_exporter": "python",
   "pygments_lexer": "ipython3",
   "version": "3.7.12"
  }
 },
 "nbformat": 4,
 "nbformat_minor": 5
}
